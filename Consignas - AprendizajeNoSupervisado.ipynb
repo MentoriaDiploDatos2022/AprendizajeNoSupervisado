{
  "nbformat": 4,
  "nbformat_minor": 0,
  "metadata": {
    "colab": {
      "name": "Consignas - Practico Aprendizaje No Supervisado.ipynb",
      "provenance": [],
      "toc_visible": true
    },
    "kernelspec": {
      "name": "python3",
      "display_name": "Python 3"
    },
    "language_info": {
      "name": "python"
    }
  },
  "cells": [
    {
      "cell_type": "markdown",
      "source": [
        "### 1. Juntar datos etiquetados con no etiquetados. Eliminar la etiqueta. \n",
        "\n",
        "Vamos a volver a unir los datos no etiquetados con el resto. (tengan a mano la columna de eitiquetas por si necesitan colorear algun grafico o hacer testigos)\n"
      ],
      "metadata": {
        "id": "W639PiY4qwQo"
      }
    },
    {
      "cell_type": "markdown",
      "source": [
        "## 2. Entrenar modelos de ANS\n",
        "\n",
        "Estamos buscando algun patron que nos determine si el paciente esta en estado pre-ictal o inter-ictal. Pero ademas estamos buscando otros patrones que podrían ayudarnos a determinar esto. \n",
        "\n",
        "Cuando prueben los distintos metodos, asegurense de hacerlo sobre los datos no etiquetados y tambien los etiquetados. Comparen los valores de las etiquetas con respecto a los clusters encontrados. Prueben con distintos numeros de clusters y vean si algun grupo coincide con el grupo de etiquetados en 1 que es el que mas nos intereso recuperar en el practico de supervisado.\n",
        "\n",
        "### 2.0 - Filtro de outliers v2.0\n",
        "\n",
        "Prueben el [detector de anomalias](https://scikit-learn.org/stable/modules/outlier_detection.html) de sklearn sobre nuestros datos. Comparenlo con las detecciones realizadas en la etapa de analisis\n",
        "\n",
        "### 2.1 - Clustering\n",
        "Exploren los [metodos de clusters](https://scikit-learn.org/stable/modules/clustering.html) que ofrece sklearn y elijan minimo 2 para aplicar a nuestro dataset. Justifiquen la eleccion. Se pueden hacer conclusiones sobre los resultados?\n",
        "\n",
        "### 2.2 - Manifolds\n",
        "Nuestro dataset no tiene una dimensionalidad muy alta, sin embargo los embeddings nos pueden proporcionar informacion visual valiosa, similar a la visualizacion de los componentes principales (PCA). Prueben al menos uno de los [manifolds](https://scikit-learn.org/stable/modules/manifold.html) que ofrece sklearn para visualizar nuestros datos en 2 o 3 dimensiones."
      ],
      "metadata": {
        "id": "ixBoxAISq83_"
      }
    },
    {
      "cell_type": "markdown",
      "source": [
        "### 3. Volvamos a AA\n",
        "\n",
        "Los analisis hechos en esta etapa sirven para enriquecer nuestro conocimiento sobre nuestros datos. Con esta informacion nueva, quizas podremos incrementar algunos puntos mas las predicciones del practico anterior.\n",
        "\n",
        "Pueden usar los clusters encontrados en el punto dos como una columna nueva y usarla para entrenar los modelos. Pueden usar el filtro de outliers de sklearn si consideran que mejora la deteccion. \n",
        "\n",
        "Mejoran los resultados? Se pueden sacar conclusiones?"
      ],
      "metadata": {
        "id": "Gr2KCfT50bhi"
      }
    },
    {
      "cell_type": "markdown",
      "source": [
        "### 4. Cuantificadores vs estimadores clasicos (Opcional)\n",
        "\n",
        "Las columnas de media, varianza y skew, son realmente necesarias? o solo suman ruido? observen como se comportan los modelos cuando quitan esas columnas. Se puede sacar alguna conclusion sobre esto? "
      ],
      "metadata": {
        "id": "1OBCfL-Y2zds"
      }
    },
    {
      "cell_type": "code",
      "source": [],
      "metadata": {
        "id": "4gf5j1XAzyFZ"
      },
      "execution_count": null,
      "outputs": []
    }
  ]
}